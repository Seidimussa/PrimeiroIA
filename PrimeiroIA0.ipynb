{
  "cells": [
    {
      "cell_type": "markdown",
      "metadata": {
        "id": "view-in-github",
        "colab_type": "text"
      },
      "source": [
        "<a href=\"https://colab.research.google.com/github/Seidimussa/PrimeiroIA/blob/main/PrimeiroIA0.ipynb\" target=\"_parent\"><img src=\"https://colab.research.google.com/assets/colab-badge.svg\" alt=\"Open In Colab\"/></a>"
      ]
    },
    {
      "cell_type": "code",
      "execution_count": null,
      "metadata": {
        "id": "8FlvfFcp9Tq-"
      },
      "outputs": [],
      "source": []
    },
    {
      "cell_type": "code",
      "execution_count": null,
      "metadata": {
        "id": "HTexG-O6OxNx"
      },
      "outputs": [],
      "source": [
        "!pip install -q -U google-generativeai"
      ]
    },
    {
      "cell_type": "code",
      "execution_count": null,
      "metadata": {
        "id": "dT_HaH45OxXz"
      },
      "outputs": [],
      "source": [
        "# Import the Python SDK\n",
        "import google.generativeai as genai\n",
        "from google.colab import userdata\n",
        "api_key = userdata.get('SECRET_KEY')\n",
        "genai.configure(api_key=api_key)\n"
      ]
    },
    {
      "cell_type": "markdown",
      "metadata": {
        "id": "WJ3oBt6GPR4e"
      },
      "source": [
        "Testando modelos"
      ]
    },
    {
      "cell_type": "code",
      "execution_count": null,
      "metadata": {
        "colab": {
          "base_uri": "https://localhost:8080/",
          "height": 139
        },
        "id": "j_HOXjJ2Pffe",
        "outputId": "59927e36-359e-4537-d6cb-ebc4ff18c946"
      },
      "outputs": [
        {
          "output_type": "stream",
          "name": "stdout",
          "text": [
            "models/gemini-1.0-pro\n",
            "models/gemini-1.0-pro-001\n",
            "models/gemini-1.0-pro-latest\n",
            "models/gemini-1.0-pro-vision-latest\n",
            "models/gemini-1.5-pro-latest\n",
            "models/gemini-pro\n",
            "models/gemini-pro-vision\n"
          ]
        }
      ],
      "source": [
        "for mussa in genai.list_models():\n",
        "  if 'generateContent' in mussa.supported_generation_methods:\n",
        "    print(mussa.name)"
      ]
    },
    {
      "cell_type": "code",
      "execution_count": null,
      "metadata": {
        "id": "yyNq5cG2VyIa"
      },
      "outputs": [],
      "source": [
        "generation_config = {\n",
        "    \"candidate_count\": 1,\n",
        "    \"temperature\": 0.5,\n",
        "}"
      ]
    },
    {
      "cell_type": "code",
      "execution_count": null,
      "metadata": {
        "id": "SE7tIyETYBC_"
      },
      "outputs": [],
      "source": [
        "safety_settings = {\n",
        "    \"HARASSMENT\": \"BLOCK_NONE\",\n",
        "    \"HATE\": \"BLOCK_NONE\",\n",
        "    \"SEXUAL\": \"BLOCK_NONE\",\n",
        "    \"DANGEROUS\": \"BLOCK_NONE\",\n",
        "}"
      ]
    },
    {
      "cell_type": "markdown",
      "metadata": {
        "id": "smVh-s3uXpQ8"
      },
      "source": [
        "Inicializando modelo"
      ]
    },
    {
      "cell_type": "code",
      "execution_count": null,
      "metadata": {
        "id": "m9SxZIoAXs55"
      },
      "outputs": [],
      "source": [
        "model = genai.GenerativeModel(model_name=\"gemini-1.0-pro\",\n",
        "                              generation_config=generation_config,\n",
        "                              safety_settings=safety_settings)"
      ]
    },
    {
      "cell_type": "code",
      "source": [
        "response = model.generate_content(\"Vamos aprender conteúdo sobre IA. Me dá sugestões.\")\n",
        "print(response.text)"
      ],
      "metadata": {
        "colab": {
          "base_uri": "https://localhost:8080/",
          "height": 729
        },
        "id": "dWi4y8PfepKt",
        "outputId": "63cd78bf-471f-463a-eac9-6ded2a73aa83"
      },
      "execution_count": null,
      "outputs": [
        {
          "output_type": "stream",
          "name": "stdout",
          "text": [
            "**Conceitos Fundamentais**\n",
            "\n",
            "* O que é Inteligência Artificial (IA)\n",
            "* Tipos de IA: IA Fraca, IA Forte, IA Geral\n",
            "* Aprendizado de Máquina, Aprendizado Profundo e Aprendizado por Reforço\n",
            "* Algoritmos e Técnicas de IA\n",
            "\n",
            "**Aplicações da IA**\n",
            "\n",
            "* Reconhecimento de Imagem e Vídeo\n",
            "* Processamento de Linguagem Natural\n",
            "* Veículos Autônomos\n",
            "* Diagnóstico Médico\n",
            "* Previsão Financeira\n",
            "\n",
            "**Ética e Implicações Sociais da IA**\n",
            "\n",
            "* Viés e Discriminação em Algoritmos\n",
            "* Perda de Empregos e Automação\n",
            "* Privacidade e Vigilância\n",
            "* Regulamentação e Governança da IA\n",
            "\n",
            "**Ferramentas e Tecnologias de IA**\n",
            "\n",
            "* Bibliotecas e Frameworks de IA (por exemplo, TensorFlow, PyTorch)\n",
            "* Serviços de Nuvem de IA (por exemplo, AWS SageMaker, Azure Machine Learning)\n",
            "* Ferramentas de Visualização e Depuração de IA\n",
            "\n",
            "**Tendências e Avanços em IA**\n",
            "\n",
            "* IA Generativa (por exemplo, ChatGPT, Dall-E 2)\n",
            "* IA Quântica\n",
            "* IA Ética e Responsável\n",
            "* Aplicações da IA em Novos Setores\n",
            "\n",
            "**Recursos de Aprendizagem**\n",
            "\n",
            "* Cursos Online (por exemplo, Coursera, edX)\n",
            "* Livros e Artigos\n",
            "* Tutoriais e Demonstrações\n",
            "* Comunidades e Fóruns de IA\n"
          ]
        }
      ]
    },
    {
      "cell_type": "code",
      "source": [
        "chat = model.start_chat(history=[])"
      ],
      "metadata": {
        "id": "mmsxXR-pjXXZ"
      },
      "execution_count": null,
      "outputs": []
    },
    {
      "cell_type": "code",
      "source": [
        "prompt = input(\"Esperando prompt: \")\n",
        "\n",
        "while prompt != \"fim\":\n",
        "  response = chat.send_message(prompt)\n",
        "  print(\"Resposta: \", response.text, \"\\n\")\n",
        "  prompt = input(\"Esperando prompt: \")"
      ],
      "metadata": {
        "colab": {
          "base_uri": "https://localhost:8080/",
          "height": 471
        },
        "id": "-FAuYk2ckQMQ",
        "outputId": "4b6ce1e5-5483-4cda-b5be-7e3257e4e5b6"
      },
      "execution_count": null,
      "outputs": [
        {
          "name": "stdout",
          "output_type": "stream",
          "text": [
            "Esperando prompt: qual é a capital de guiné-bissau?\n",
            "Resposta:  Bissau \n",
            "\n",
            "Esperando prompt: qual é a comida tipica deste país?\n",
            "Resposta:  Arroz com feijão e peixe \n",
            "\n",
            "Esperando prompt: meu primo nasceu nessa cidade, qual é a nascionalidade dele?\n",
            "Resposta:  Guineense \n",
            "\n",
            "Esperando prompt: qual é a população dessa cidade?\n",
            "Resposta:  492.004 (2015) \n",
            "\n",
            "Esperando prompt: qual é nivel de tecnologia desse país?\n",
            "Resposta:  Baixo \n",
            "\n",
            "Esperando prompt: motivo\n",
            "Resposta:  * **Infraestrutura limitada:** Acesso limitado a eletricidade, internet e outros serviços essenciais.\n",
            "* **Baixos níveis de educação:** Taxas de alfabetização e educação técnica relativamente baixas.\n",
            "* **Falta de investimento em pesquisa e desenvolvimento:** Investimento limitado em inovação e novas tecnologias.\n",
            "* **Dependência de recursos naturais:** Economia dependente principalmente da agricultura e mineração, com pouca diversificação.\n",
            "* **Corrupção e instabilidade política:** Corrupção generalizada e instabilidade política podem desencorajar investimentos em tecnologia.\n",
            "* **Falta de acesso a capital:** Acesso limitado a financiamento e investimentos para empresas de tecnologia.\n",
            "* **Mercado interno pequeno:** Mercado interno pequeno, dificultando o crescimento e a sustentabilidade das empresas de tecnologia. \n",
            "\n",
            "Esperando prompt: fim\n"
          ]
        }
      ]
    }
  ],
  "metadata": {
    "colab": {
      "provenance": [],
      "authorship_tag": "ABX9TyMnxzAjeQ+1BKfs+0jRLKtW",
      "include_colab_link": true
    },
    "kernelspec": {
      "display_name": "Python 3",
      "name": "python3"
    },
    "language_info": {
      "name": "python"
    }
  },
  "nbformat": 4,
  "nbformat_minor": 0
}